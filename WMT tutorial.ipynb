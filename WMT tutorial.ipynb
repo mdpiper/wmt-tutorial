{
 "cells": [
  {
   "cell_type": "markdown",
   "metadata": {
    "collapsed": true
   },
   "source": [
    "<img src=\"images/csdms_logo.jpg\">"
   ]
  },
  {
   "cell_type": "markdown",
   "metadata": {},
   "source": [
    "# Examine the HydroTrend output\n",
    "\n",
    "Let's use [IPython Notebook](http://ipython.org/notebook.html) to download the model output \n",
    "from the [WMT tutorial](http://csdms.colorado.edu/wiki/WMT_tutorial)\n",
    "and examine the results.\n",
    "\n",
    "The model output is stored as a **tar.gz** file on the CSDMS website. Here's its name and location:"
   ]
  },
  {
   "cell_type": "code",
   "execution_count": 10,
   "metadata": {
    "collapsed": true
   },
   "outputs": [],
   "source": [
    "download_file = 'addbbe35-5fd7-4d1b-a37d-3629768532b4.tar.gz'\n",
    "download_url = 'http://csdms.colorado.edu/pub/users/wmt/' + download_file"
   ]
  },
  {
   "cell_type": "markdown",
   "metadata": {},
   "source": [
    "Download the output and write it to a file on your local machine:"
   ]
  },
  {
   "cell_type": "code",
   "execution_count": 11,
   "metadata": {
    "collapsed": true
   },
   "outputs": [],
   "source": [
    "import requests\n",
    "r = requests.get(download_url)\n",
    "with open(download_file, 'w') as fp:\n",
    "    fp.write(r.content)"
   ]
  },
  {
   "cell_type": "markdown",
   "metadata": {},
   "source": [
    "Unpack the file:"
   ]
  },
  {
   "cell_type": "code",
   "execution_count": 12,
   "metadata": {
    "collapsed": true
   },
   "outputs": [],
   "source": [
    "import tarfile\n",
    "tar = tarfile.open(download_file)\n",
    "tar.extractall()\n",
    "tar.close()"
   ]
  },
  {
   "cell_type": "markdown",
   "metadata": {},
   "source": [
    "Change to the directory containing the unpacked contents and view:"
   ]
  },
  {
   "cell_type": "code",
   "execution_count": 13,
   "metadata": {
    "collapsed": false
   },
   "outputs": [
    {
     "data": {
      "text/plain": [
       "['components.yaml', 'hydrotrend', 'model.yaml', 'README']"
      ]
     },
     "execution_count": 13,
     "metadata": {},
     "output_type": "execute_result"
    }
   ],
   "source": [
    "import os\n",
    "os.chdir(download_file.split('.')[0])\n",
    "os.listdir('.')"
   ]
  },
  {
   "cell_type": "markdown",
   "metadata": {},
   "source": [
    "After browsing the **hydrotrend** directory, \n",
    "as well as consulting the \n",
    "[Model:HydroTrend](http://csdms.colorado.edu/wiki/Model:HydroTrend) and \n",
    "[Model_help:HydroTrend](http://csdms.colorado.edu/wiki/Model_help:HydroTrend) pages, \n",
    "the files we need are\n",
    "\n",
    "    hydrotrend/HYDRO_OUTPUT/HYDROASCII.Q\n",
    "\n",
    "for the discharge at the river mouth [m<sup>3</sup>s<sup>-1</sup>], and\n",
    "\n",
    "    hydrotrend/_time.txt\n",
    "\n",
    "for the model time steps [days].\n",
    "\n",
    "Start by reading the time data from its file:"
   ]
  },
  {
   "cell_type": "code",
   "execution_count": 25,
   "metadata": {
    "collapsed": false
   },
   "outputs": [],
   "source": [
    "with open(\"hydrotrend/_time.txt\", \"r\") as fp:\n",
    "    time = fp.read().split(\"\\n\")"
   ]
  },
  {
   "cell_type": "markdown",
   "metadata": {},
   "source": [
    "View basic information about the data:"
   ]
  },
  {
   "cell_type": "code",
   "execution_count": 28,
   "metadata": {
    "collapsed": false
   },
   "outputs": [
    {
     "name": "stdout",
     "output_type": "stream",
     "text": [
      "Data type: <type 'list'>\n",
      "Length: 367 elements\n",
      "First five elements:\n",
      "['0.000000', '1.000000', '2.000000', '3.000000', '4.000000']\n"
     ]
    }
   ],
   "source": [
    "print \"Data type: {}\".format(type(time))\n",
    "print \"Length: {} elements\".format(len(time))\n",
    "print \"First five elements:\\n{}\".format(time[0:5])"
   ]
  },
  {
   "cell_type": "markdown",
   "metadata": {},
   "source": [
    "Next, read the discharge data:"
   ]
  },
  {
   "cell_type": "code",
   "execution_count": 30,
   "metadata": {
    "collapsed": false
   },
   "outputs": [],
   "source": [
    "with open(\"hydrotrend/HYDRO_OUTPUT/HYDROASCII.Q\", \"r\") as fp:\n",
    "    discharge = fp.read().split(\"\\n\")"
   ]
  },
  {
   "cell_type": "markdown",
   "metadata": {},
   "source": [
    "View basic information about the data:"
   ]
  },
  {
   "cell_type": "code",
   "execution_count": 31,
   "metadata": {
    "collapsed": false
   },
   "outputs": [
    {
     "name": "stdout",
     "output_type": "stream",
     "text": [
      "Data type: <type 'list'>\n",
      "Length: 368 elements\n",
      "First five elements:\n",
      "['Q(m^3/s) ', '--------- ', '1.100 ', '1.100 ', '1.100 ']\n"
     ]
    }
   ],
   "source": [
    "print \"Data type: {}\".format(type(discharge))\n",
    "print \"Length: {} elements\".format(len(discharge))\n",
    "print \"First five elements:\\n{}\".format(discharge[0:5])"
   ]
  },
  {
   "cell_type": "markdown",
   "metadata": {},
   "source": [
    "Prepare the data by removing the two header lines and the empty line at the end of the `discharge` series. Also remove the last two values in the `time` series. Both series now have 365 elements."
   ]
  },
  {
   "cell_type": "code",
   "execution_count": 22,
   "metadata": {
    "collapsed": false
   },
   "outputs": [
    {
     "name": "stdout",
     "output_type": "stream",
     "text": [
      "365 365\n"
     ]
    }
   ],
   "source": [
    "discharge = discharge[2:-1]\n",
    "time = time[:-2]\n",
    "print len(discharge), len(time)"
   ]
  },
  {
   "cell_type": "markdown",
   "metadata": {},
   "source": [
    "Now we can visualize the model output as a time series: "
   ]
  },
  {
   "cell_type": "code",
   "execution_count": 23,
   "metadata": {
    "collapsed": false
   },
   "outputs": [
    {
     "name": "stdout",
     "output_type": "stream",
     "text": [
      "Populating the interactive namespace from numpy and matplotlib\n"
     ]
    },
    {
     "data": {
      "image/png": "[encoded data removed]",
      "text/plain": [
       "<matplotlib.figure.Figure at 0x106cccb90>"
      ]
     },
     "metadata": {},
     "output_type": "display_data"
    }
   ],
   "source": [
    "%pylab inline\n",
    "plot(time, discharge)\n",
    "title(\"HydroTrend: discharge at river mouth versus time\")\n",
    "xlabel(\"Time [$days$]\")\n",
    "ylabel(\"Q [$m^3 s^{-1}$]\")\n",
    "show()"
   ]
  }
 ],
 "metadata": {
  "kernelspec": {
   "display_name": "Python 2",
   "language": "python",
   "name": "python2"
  },
  "language_info": {
   "codemirror_mode": {
    "name": "ipython",
    "version": 2
   },
   "file_extension": ".py",
   "mimetype": "text/x-python",
   "name": "python",
   "nbconvert_exporter": "python",
   "pygments_lexer": "ipython2",
   "version": "2.7.9"
  }
 },
 "nbformat": 4,
 "nbformat_minor": 0
}
